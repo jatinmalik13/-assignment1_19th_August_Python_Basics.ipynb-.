{
 "cells": [
  {
   "cell_type": "code",
   "execution_count": 6,
   "id": "7cc5c756-e20a-4486-b69a-f07f9df2ff48",
   "metadata": {},
   "outputs": [],
   "source": [
    "# Q1. Declare two variables, `x` and `y`, and assign them integer values. Swap the\n",
    "#values of these variables without using any temporary variable."
   ]
  },
  {
   "cell_type": "code",
   "execution_count": 9,
   "id": "730a18fa-ecc7-4968-982d-e8550048aee7",
   "metadata": {},
   "outputs": [
    {
     "name": "stdout",
     "output_type": "stream",
     "text": [
      "After swapping:\n",
      "x = 10\n",
      "y = 5\n"
     ]
    }
   ],
   "source": [
    "#ans1 \n",
    "# Declaring variables .\n",
    "x = 5\n",
    "y = 10\n",
    "\n",
    "# Swaping values\n",
    "x,y = y, x\n",
    "\n",
    "# Now, x and y have swapped values\n",
    "print(\"After swapping:\")\n",
    "print(\"x =\", x)\n",
    "print(\"y =\", y)"
   ]
  },
  {
   "cell_type": "code",
   "execution_count": 10,
   "id": "bebdd231-8bbb-4ba4-a823-9fe5e65d5530",
   "metadata": {},
   "outputs": [],
   "source": [
    "# Q2. Create a program that calculates the area of a rectangle. Take the length and\n",
    "#     width as inputs from the user and store them in variables. Calculate and\n",
    "#     display the area."
   ]
  },
  {
   "cell_type": "code",
   "execution_count": 6,
   "id": "792f504f-13b9-470a-97bb-9561f00ba5ab",
   "metadata": {},
   "outputs": [
    {
     "name": "stdout",
     "output_type": "stream",
     "text": [
      "the area of rectangle is: 60\n"
     ]
    }
   ],
   "source": [
    "# Define the length and width of the rectangle\n",
    "length = 6\n",
    "width = 10\n",
    "\n",
    "# Calculate the area of the rectangle\n",
    "area = length * width\n",
    "\n",
    "print(\"the area of rectangle is:\" , area)\n",
    "\n",
    " \n"
   ]
  },
  {
   "cell_type": "code",
   "execution_count": 7,
   "id": "1659c39f-8728-4710-82ef-9702cf8bc10a",
   "metadata": {},
   "outputs": [],
   "source": [
    "# Q3. Write a Python program that converts temperatures from Celsius to\n",
    "#     Fahrenheit. Take the temperature in Celsius as input, store it in a variable,\n",
    "#     convert it to Fahrenheit, and display the result."
   ]
  },
  {
   "cell_type": "code",
   "execution_count": 26,
   "id": "0effa11c-03df-4ccf-8e7d-ce5443100b1e",
   "metadata": {},
   "outputs": [
    {
     "name": "stdout",
     "output_type": "stream",
     "text": [
      "38 degrees Celsius is equal to 100.4 degrees Fahrenheit.\n"
     ]
    }
   ],
   "source": [
    "#ANS 3.\n",
    "\n",
    "celsius_temperature = 38\n",
    "\n",
    "\n",
    "fahrenheit_temperature = (celsius_temperature * 9/5) + 32\n",
    "\n",
    "print(f\"{celsius_temperature} degrees Celsius is equal to {fahrenheit_temperature} degrees Fahrenheit.\")"
   ]
  },
  {
   "cell_type": "code",
   "execution_count": null,
   "id": "49fb011f-59a1-4866-9180-96900388d529",
   "metadata": {},
   "outputs": [],
   "source": []
  },
  {
   "cell_type": "code",
   "execution_count": 27,
   "id": "83758c09-69de-472c-8ab2-0d0d0a7a94bb",
   "metadata": {},
   "outputs": [],
   "source": [
    "# TOPIC : STRING BASED QUESTIONS\n"
   ]
  },
  {
   "cell_type": "code",
   "execution_count": 28,
   "id": "67898c8a-e907-417a-a77a-4b34dd8b933b",
   "metadata": {},
   "outputs": [],
   "source": [
    "# Q1. Write a Python program that takes a string as input and prints the length of\n",
    "#     the string."
   ]
  },
  {
   "cell_type": "code",
   "execution_count": 29,
   "id": "e22fea48-ffe0-45b0-92aa-e750d5875ada",
   "metadata": {},
   "outputs": [
    {
     "name": "stdin",
     "output_type": "stream",
     "text": [
      "Enter a string:  hello\n"
     ]
    },
    {
     "name": "stdout",
     "output_type": "stream",
     "text": [
      "The length of the string is: 5\n"
     ]
    }
   ],
   "source": [
    "# ANS 1\n",
    "\n",
    "user_input = input(\"Enter a string: \")\n",
    "\n",
    "\n",
    "string_length = len(user_input)\n",
    "\n",
    "\n",
    "print(f\"The length of the string is: {string_length}\")"
   ]
  },
  {
   "cell_type": "code",
   "execution_count": null,
   "id": "4c334a7c-bba5-46d7-a6ef-8b40e8ac968d",
   "metadata": {},
   "outputs": [],
   "source": []
  },
  {
   "cell_type": "code",
   "execution_count": 30,
   "id": "1e992763-8fdb-4642-a44f-a5e79e620364",
   "metadata": {},
   "outputs": [],
   "source": [
    "# Q2. Create a program that takes a sentence from the user and counts the number\n",
    "#     of vowels (a, e, i, o, u) in the string."
   ]
  },
  {
   "cell_type": "code",
   "execution_count": 32,
   "id": "d4cc34f2-0634-4b6f-8fc4-2b6e4c318247",
   "metadata": {},
   "outputs": [
    {
     "name": "stdin",
     "output_type": "stream",
     "text": [
      "Enter a sentence:  data science\n"
     ]
    },
    {
     "name": "stdout",
     "output_type": "stream",
     "text": [
      "The number of vowels in the sentence is: 5\n"
     ]
    }
   ],
   "source": [
    "\n",
    "user_sentence = input(\"Enter a sentence: \")\n",
    "\n",
    "vowels = set(\"aeiou\")\n",
    "\n",
    "print(f\"The number of vowels in the sentence is: {vowel_count}\")"
   ]
  },
  {
   "cell_type": "code",
   "execution_count": null,
   "id": "4505248f-1199-472b-b978-e68e6da6fe2e",
   "metadata": {},
   "outputs": [],
   "source": []
  },
  {
   "cell_type": "code",
   "execution_count": 33,
   "id": "0799d75c-5ffb-4c4e-b58d-9595bc403453",
   "metadata": {},
   "outputs": [],
   "source": [
    "# Q3. Given a string, reverse the order of characters using string slicing and print\n",
    "#     the reversed string."
   ]
  },
  {
   "cell_type": "code",
   "execution_count": 35,
   "id": "eda8f874-409a-45e0-b184-b7e2def29413",
   "metadata": {},
   "outputs": [
    {
     "name": "stdin",
     "output_type": "stream",
     "text": [
      "Enter a string:  sudanshusir\n"
     ]
    },
    {
     "name": "stdout",
     "output_type": "stream",
     "text": [
      "The reversed string is: risuhsnadus\n"
     ]
    }
   ],
   "source": [
    "# ANS 3. \n",
    "\n",
    "user_string = input(\"Enter a string: \")\n",
    "\n",
    "reversed_string = user_string[::-1]\n",
    "\n",
    "print(f\"The reversed string is: {reversed_string}\")"
   ]
  },
  {
   "cell_type": "code",
   "execution_count": null,
   "id": "33dcc653-7bb5-4420-b334-0e49b84f8fb9",
   "metadata": {},
   "outputs": [],
   "source": []
  },
  {
   "cell_type": "code",
   "execution_count": 36,
   "id": "717a2ca9-226d-4307-a5d1-e4334b46033d",
   "metadata": {},
   "outputs": [],
   "source": [
    "# Q4. Write a program that takes a string as input and checks if it is a palindrome\n",
    "#     (reads the same forwards and backwards)."
   ]
  },
  {
   "cell_type": "code",
   "execution_count": 41,
   "id": "50d6f6c2-e036-4e86-83f5-4c1d4d274b76",
   "metadata": {},
   "outputs": [
    {
     "name": "stdin",
     "output_type": "stream",
     "text": [
      "Enter a string:  nitin\n"
     ]
    },
    {
     "name": "stdout",
     "output_type": "stream",
     "text": [
      "The string 'nitin' is a palindrome.\n"
     ]
    }
   ],
   "source": [
    "# ANS 4.\n",
    "\n",
    " \n",
    "user_string = input(\"Enter a string: \")\n",
    "\n",
    "\n",
    "processed_string = user_string.replace(\" \", \"\").lower()\n",
    "\n",
    "\n",
    "reversed_string = processed_string[::-1]\n",
    "\n",
    "\n",
    "if processed_string == reversed_string:\n",
    "    print(f\"The string '{user_string}' is a palindrome.\")\n",
    "else:\n",
    "    print(f\"The string '{user_string}' is not a palindrome.\")"
   ]
  },
  {
   "cell_type": "code",
   "execution_count": null,
   "id": "8dad903d-221e-424b-9757-161836a6c62e",
   "metadata": {},
   "outputs": [],
   "source": []
  },
  {
   "cell_type": "code",
   "execution_count": 43,
   "id": "7161e0b0-d80c-4beb-9572-cb7f1ed5d243",
   "metadata": {},
   "outputs": [],
   "source": [
    "# Q5. Create a program that takes a string as input and removes all the spaces from\n",
    " #   it. Print the modified string without spaces."
   ]
  },
  {
   "cell_type": "code",
   "execution_count": 44,
   "id": "bb4e0752-4432-46e8-a8c0-b52b1895c9a4",
   "metadata": {},
   "outputs": [
    {
     "name": "stdin",
     "output_type": "stream",
     "text": [
      "Enter a string:  hello iam jatin\n"
     ]
    },
    {
     "name": "stdout",
     "output_type": "stream",
     "text": [
      "The string without spaces is: helloiamjatin\n"
     ]
    }
   ],
   "source": [
    "# ANS 5\n",
    "\n",
    "\n",
    "user_string = input(\"Enter a string: \")\n",
    "\n",
    "string_without_spaces = user_string.replace(\" \", \"\")\n",
    "\n",
    "print(f\"The string without spaces is: {string_without_spaces}\")"
   ]
  },
  {
   "cell_type": "code",
   "execution_count": null,
   "id": "703e2291-42bb-47ef-a8ef-a7d7227346d0",
   "metadata": {},
   "outputs": [],
   "source": []
  },
  {
   "cell_type": "code",
   "execution_count": null,
   "id": "e121f794-a028-441d-9670-791bb180704b",
   "metadata": {},
   "outputs": [],
   "source": [
    "            #ASSIGNMENT 1 (19TH AUG 2023) DATASCEINCE PRO BATCH COMPLEDTED; :)"
   ]
  }
 ],
 "metadata": {
  "kernelspec": {
   "display_name": "Python 3 (ipykernel)",
   "language": "python",
   "name": "python3"
  },
  "language_info": {
   "codemirror_mode": {
    "name": "ipython",
    "version": 3
   },
   "file_extension": ".py",
   "mimetype": "text/x-python",
   "name": "python",
   "nbconvert_exporter": "python",
   "pygments_lexer": "ipython3",
   "version": "3.10.8"
  }
 },
 "nbformat": 4,
 "nbformat_minor": 5
}
